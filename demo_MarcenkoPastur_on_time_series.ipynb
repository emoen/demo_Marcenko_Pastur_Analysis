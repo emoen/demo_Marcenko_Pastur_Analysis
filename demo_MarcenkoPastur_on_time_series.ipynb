{
 "cells": [
  {
   "cell_type": "markdown",
   "metadata": {},
   "source": [
    "# Marcenko pasture pdf and Random matrixes"
   ]
  },
  {
   "cell_type": "markdown",
   "metadata": {},
   "source": [
    "Let X be i.i.d random observations of size TxN with mean 0, and variance \\sigma^2 then the correlation matrix has eigenvalues \\lambda distributed according to the Marcenko-Pastur distribution\n",
    "\n",
    "\\begin{equation*}\n",
    "f(\\lambda) = \\frac{T}{N}\\frac{\\sqrt{( \\lambda_+-\\lambda )( \\lambda_--\\lambda )}}{2\\pi\\lambda\\sigma^2}\\unicode{x1D7D9}_{(\\lambda_-,\\lambda_+)}\n",
    "\\end{equation*}\n",
    "\n",
    "where \n",
    "\\begin{equation*}\n",
    "\\lambda_+ = \\sigma^2(1+\\sqrt{\\frac{N}{T}})^2 \\\\\n",
    "\\lambda_- = \\sigma^2(1-\\sqrt{\\frac{N}{T}})^2\n",
    "\\end{equation*}\n",
    "\n",
    "When C is a correlation matrix, \\sigma^2=1\n"
   ]
  },
  {
   "cell_type": "code",
   "execution_count": 3,
   "metadata": {},
   "outputs": [
    {
     "data": {
      "text/plain": [
       "[<matplotlib.lines.Line2D at 0x5559ca0>]"
      ]
     },
     "execution_count": 3,
     "metadata": {},
     "output_type": "execute_result"
    },
    {
     "data": {
      "image/png": "[encoded data removed]",
      "text/plain": [
       "<Figure size 432x288 with 1 Axes>"
      ]
     },
     "metadata": {
      "needs_background": "light"
     },
     "output_type": "display_data"
    }
   ],
   "source": [
    "\n",
    "import pandas as pd\n",
    "from sklearn.neighbors import KernelDensity\n",
    "import matplotlib.pylab as plt\n",
    "from scipy.optimize import minimize\n",
    "\n",
    "#Marcenko-Pastur pdf\n",
    "#q=T/N \n",
    "def mpPDF(var, q, pts):\n",
    "    eMin, eMax = var*(1-(1./q)**.5)**2, var*(1+(1./q)**.5)**2 # calc lambda_minus, lambda_plus\n",
    "    eVal = np.linspace(eMin, eMax, pts) #Return evenly spaced numbers over a specified interval. eVal='lambda'\n",
    "    pdf = q/(2*np.pi*var*eVal)*((eMax-eVal)*(eVal-eMin))**.5 #np.allclose(np.flip((eMax-eVal)), (eVal-eMin))==True\n",
    "    pdf = pd.Series(pdf, index=eVal)\n",
    "    return pdf\n",
    "\n",
    "pdf0 = mpPDF(1., q=x.shape[0]/float(x.shape[1]), pts=N)\n",
    "plt.plot(pdf0.keys(), pdf0, color='r', label=\"Marcenko-Pastur pdf\")"
   ]
  },
  {
   "cell_type": "code",
   "execution_count": 2,
   "metadata": {},
   "outputs": [],
   "source": [
    "    N = 1000\n",
    "    T = 10000\n",
    "    x = np.random.normal(0, 1, size = (T, N))"
   ]
  }
 ],
 "metadata": {
  "kernelspec": {
   "display_name": "Python 3",
   "language": "python",
   "name": "python3"
  },
  "language_info": {
   "codemirror_mode": {
    "name": "ipython",
    "version": 3
   },
   "file_extension": ".py",
   "mimetype": "text/x-python",
   "name": "python",
   "nbconvert_exporter": "python",
   "pygments_lexer": "ipython3",
   "version": "3.8.3"
  }
 },
 "nbformat": 4,
 "nbformat_minor": 4
}
